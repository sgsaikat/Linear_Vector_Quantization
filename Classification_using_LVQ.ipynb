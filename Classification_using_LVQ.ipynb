{
 "cells": [
  {
   "cell_type": "code",
   "execution_count": 0,
   "metadata": {
    "colab": {},
    "colab_type": "code",
    "id": "-7cFaVFQEOUq"
   },
   "outputs": [],
   "source": [
    "# !pip install sklearn-lvq\n",
    "# !pip install neupy"
   ]
  },
  {
   "cell_type": "code",
   "execution_count": 1,
   "metadata": {
    "colab": {},
    "colab_type": "code",
    "id": "lew9VmqB-DsB"
   },
   "outputs": [],
   "source": [
    "from urllib.request import urlretrieve\n",
    "import pandas as pd\n",
    "import matplotlib.pyplot as plt\n",
    "from warnings import filterwarnings\n",
    "filterwarnings('ignore')\n",
    "\n",
    "from sklearn.preprocessing import Normalizer, StandardScaler\n",
    "from sklearn.model_selection import train_test_split\n",
    "from sklearn.linear_model import LogisticRegression\n",
    "from sklearn.metrics import accuracy_score\n",
    "from sklearn.datasets import load_digits\n",
    "\n",
    "from sklearn_lvq import GlvqModel, GmlvqModel\n",
    "\n",
    "from neupy.algorithms import LVQ3"
   ]
  },
  {
   "cell_type": "markdown",
   "metadata": {
    "colab_type": "text",
    "id": "X3ALm_WZIeXS"
   },
   "source": [
    "# 'Tecator' Dataset"
   ]
  },
  {
   "cell_type": "code",
   "execution_count": 2,
   "metadata": {
    "colab": {
     "base_uri": "https://localhost:8080/",
     "height": 34
    },
    "colab_type": "code",
    "id": "Vpstnl4K-fV6",
    "outputId": "d078807d-5574-442b-aed8-de6d1039e8a1"
   },
   "outputs": [
    {
     "data": {
      "text/plain": [
       "('tecator.csv', <http.client.HTTPMessage at 0x1e6e5fff8d0>)"
      ]
     },
     "execution_count": 2,
     "metadata": {},
     "output_type": "execute_result"
    }
   ],
   "source": [
    "url = \"https://www.openml.org/data/get_csv/52617/tecator.arff\"\n",
    "file = \"tecator.csv\"\n",
    "urlretrieve(url,file)"
   ]
  },
  {
   "cell_type": "code",
   "execution_count": 3,
   "metadata": {
    "colab": {
     "base_uri": "https://localhost:8080/",
     "height": 253
    },
    "colab_type": "code",
    "id": "LOuyqPG--5Nz",
    "outputId": "c8d271cb-a1b4-4a8d-f0c7-4fce054ad46c"
   },
   "outputs": [
    {
     "data": {
      "text/html": [
       "<div>\n",
       "<style scoped>\n",
       "    .dataframe tbody tr th:only-of-type {\n",
       "        vertical-align: middle;\n",
       "    }\n",
       "\n",
       "    .dataframe tbody tr th {\n",
       "        vertical-align: top;\n",
       "    }\n",
       "\n",
       "    .dataframe thead th {\n",
       "        text-align: right;\n",
       "    }\n",
       "</style>\n",
       "<table border=\"1\" class=\"dataframe\">\n",
       "  <thead>\n",
       "    <tr style=\"text-align: right;\">\n",
       "      <th></th>\n",
       "      <th>absorbance_1</th>\n",
       "      <th>absorbance_2</th>\n",
       "      <th>absorbance_3</th>\n",
       "      <th>absorbance_4</th>\n",
       "      <th>absorbance_5</th>\n",
       "      <th>absorbance_6</th>\n",
       "      <th>absorbance_7</th>\n",
       "      <th>absorbance_8</th>\n",
       "      <th>absorbance_9</th>\n",
       "      <th>absorbance_10</th>\n",
       "      <th>...</th>\n",
       "      <th>principal_component_16</th>\n",
       "      <th>principal_component_17</th>\n",
       "      <th>principal_component_18</th>\n",
       "      <th>principal_component_19</th>\n",
       "      <th>principal_component_20</th>\n",
       "      <th>principal_component_21</th>\n",
       "      <th>principal_component_22</th>\n",
       "      <th>moisture</th>\n",
       "      <th>fat</th>\n",
       "      <th>protein</th>\n",
       "    </tr>\n",
       "  </thead>\n",
       "  <tbody>\n",
       "    <tr>\n",
       "      <th>0</th>\n",
       "      <td>2.61776</td>\n",
       "      <td>2.61814</td>\n",
       "      <td>2.61859</td>\n",
       "      <td>2.61912</td>\n",
       "      <td>2.61981</td>\n",
       "      <td>2.62071</td>\n",
       "      <td>2.62186</td>\n",
       "      <td>2.62334</td>\n",
       "      <td>2.62511</td>\n",
       "      <td>2.62722</td>\n",
       "      <td>...</td>\n",
       "      <td>0.233876</td>\n",
       "      <td>0.899661</td>\n",
       "      <td>-0.042006</td>\n",
       "      <td>0.708717</td>\n",
       "      <td>-0.254173</td>\n",
       "      <td>-0.391579</td>\n",
       "      <td>-0.419313</td>\n",
       "      <td>60.5</td>\n",
       "      <td>22.5</td>\n",
       "      <td>16.7</td>\n",
       "    </tr>\n",
       "    <tr>\n",
       "      <th>1</th>\n",
       "      <td>2.83454</td>\n",
       "      <td>2.83871</td>\n",
       "      <td>2.84283</td>\n",
       "      <td>2.84705</td>\n",
       "      <td>2.85138</td>\n",
       "      <td>2.85587</td>\n",
       "      <td>2.86060</td>\n",
       "      <td>2.86566</td>\n",
       "      <td>2.87093</td>\n",
       "      <td>2.87661</td>\n",
       "      <td>...</td>\n",
       "      <td>-0.195980</td>\n",
       "      <td>-0.046359</td>\n",
       "      <td>-0.634996</td>\n",
       "      <td>-0.354403</td>\n",
       "      <td>0.014650</td>\n",
       "      <td>0.269542</td>\n",
       "      <td>0.096692</td>\n",
       "      <td>46.0</td>\n",
       "      <td>40.1</td>\n",
       "      <td>13.5</td>\n",
       "    </tr>\n",
       "    <tr>\n",
       "      <th>2</th>\n",
       "      <td>2.58284</td>\n",
       "      <td>2.58458</td>\n",
       "      <td>2.58629</td>\n",
       "      <td>2.58808</td>\n",
       "      <td>2.58996</td>\n",
       "      <td>2.59192</td>\n",
       "      <td>2.59401</td>\n",
       "      <td>2.59627</td>\n",
       "      <td>2.59873</td>\n",
       "      <td>2.60131</td>\n",
       "      <td>...</td>\n",
       "      <td>0.795466</td>\n",
       "      <td>0.762246</td>\n",
       "      <td>-1.268580</td>\n",
       "      <td>0.690588</td>\n",
       "      <td>-0.785592</td>\n",
       "      <td>-0.671237</td>\n",
       "      <td>-0.710290</td>\n",
       "      <td>71.0</td>\n",
       "      <td>8.4</td>\n",
       "      <td>20.5</td>\n",
       "    </tr>\n",
       "    <tr>\n",
       "      <th>3</th>\n",
       "      <td>2.82286</td>\n",
       "      <td>2.82460</td>\n",
       "      <td>2.82630</td>\n",
       "      <td>2.82814</td>\n",
       "      <td>2.83001</td>\n",
       "      <td>2.83192</td>\n",
       "      <td>2.83392</td>\n",
       "      <td>2.83606</td>\n",
       "      <td>2.83842</td>\n",
       "      <td>2.84097</td>\n",
       "      <td>...</td>\n",
       "      <td>0.616500</td>\n",
       "      <td>-0.388684</td>\n",
       "      <td>-2.068390</td>\n",
       "      <td>1.276160</td>\n",
       "      <td>-0.259437</td>\n",
       "      <td>-0.140206</td>\n",
       "      <td>-0.165963</td>\n",
       "      <td>72.8</td>\n",
       "      <td>5.9</td>\n",
       "      <td>20.7</td>\n",
       "    </tr>\n",
       "    <tr>\n",
       "      <th>4</th>\n",
       "      <td>2.78813</td>\n",
       "      <td>2.78989</td>\n",
       "      <td>2.79167</td>\n",
       "      <td>2.79350</td>\n",
       "      <td>2.79538</td>\n",
       "      <td>2.79746</td>\n",
       "      <td>2.79984</td>\n",
       "      <td>2.80254</td>\n",
       "      <td>2.80553</td>\n",
       "      <td>2.80890</td>\n",
       "      <td>...</td>\n",
       "      <td>-1.095540</td>\n",
       "      <td>-1.348450</td>\n",
       "      <td>0.453559</td>\n",
       "      <td>0.402624</td>\n",
       "      <td>0.031307</td>\n",
       "      <td>0.021824</td>\n",
       "      <td>0.145777</td>\n",
       "      <td>58.3</td>\n",
       "      <td>25.5</td>\n",
       "      <td>15.5</td>\n",
       "    </tr>\n",
       "  </tbody>\n",
       "</table>\n",
       "<p>5 rows × 125 columns</p>\n",
       "</div>"
      ],
      "text/plain": [
       "   absorbance_1  absorbance_2  absorbance_3  absorbance_4  absorbance_5  \\\n",
       "0       2.61776       2.61814       2.61859       2.61912       2.61981   \n",
       "1       2.83454       2.83871       2.84283       2.84705       2.85138   \n",
       "2       2.58284       2.58458       2.58629       2.58808       2.58996   \n",
       "3       2.82286       2.82460       2.82630       2.82814       2.83001   \n",
       "4       2.78813       2.78989       2.79167       2.79350       2.79538   \n",
       "\n",
       "   absorbance_6  absorbance_7  absorbance_8  absorbance_9  absorbance_10  \\\n",
       "0       2.62071       2.62186       2.62334       2.62511        2.62722   \n",
       "1       2.85587       2.86060       2.86566       2.87093        2.87661   \n",
       "2       2.59192       2.59401       2.59627       2.59873        2.60131   \n",
       "3       2.83192       2.83392       2.83606       2.83842        2.84097   \n",
       "4       2.79746       2.79984       2.80254       2.80553        2.80890   \n",
       "\n",
       "    ...     principal_component_16  principal_component_17  \\\n",
       "0   ...                   0.233876                0.899661   \n",
       "1   ...                  -0.195980               -0.046359   \n",
       "2   ...                   0.795466                0.762246   \n",
       "3   ...                   0.616500               -0.388684   \n",
       "4   ...                  -1.095540               -1.348450   \n",
       "\n",
       "   principal_component_18  principal_component_19  principal_component_20  \\\n",
       "0               -0.042006                0.708717               -0.254173   \n",
       "1               -0.634996               -0.354403                0.014650   \n",
       "2               -1.268580                0.690588               -0.785592   \n",
       "3               -2.068390                1.276160               -0.259437   \n",
       "4                0.453559                0.402624                0.031307   \n",
       "\n",
       "   principal_component_21  principal_component_22  moisture   fat  protein  \n",
       "0               -0.391579               -0.419313      60.5  22.5     16.7  \n",
       "1                0.269542                0.096692      46.0  40.1     13.5  \n",
       "2               -0.671237               -0.710290      71.0   8.4     20.5  \n",
       "3               -0.140206               -0.165963      72.8   5.9     20.7  \n",
       "4                0.021824                0.145777      58.3  25.5     15.5  \n",
       "\n",
       "[5 rows x 125 columns]"
      ]
     },
     "execution_count": 3,
     "metadata": {},
     "output_type": "execute_result"
    }
   ],
   "source": [
    "data = pd.read_csv(\"tecator.csv\")\n",
    "data.head()"
   ]
  },
  {
   "cell_type": "code",
   "execution_count": 4,
   "metadata": {
    "colab": {
     "base_uri": "https://localhost:8080/",
     "height": 34
    },
    "colab_type": "code",
    "id": "T2wpcuY6_Vqa",
    "outputId": "6953ef0a-6a93-48fe-9924-05a44dded359"
   },
   "outputs": [
    {
     "name": "stdout",
     "output_type": "stream",
     "text": [
      "(240, 125) (240, 125)\n"
     ]
    }
   ],
   "source": [
    "print(data.shape, data.dropna().shape)"
   ]
  },
  {
   "cell_type": "code",
   "execution_count": 5,
   "metadata": {
    "colab": {
     "base_uri": "https://localhost:8080/",
     "height": 204
    },
    "colab_type": "code",
    "id": "ZioHPoNk_VtS",
    "outputId": "6509c7ba-7bdd-493d-f514-b23eb1b7cd43"
   },
   "outputs": [
    {
     "data": {
      "text/html": [
       "<div>\n",
       "<style scoped>\n",
       "    .dataframe tbody tr th:only-of-type {\n",
       "        vertical-align: middle;\n",
       "    }\n",
       "\n",
       "    .dataframe tbody tr th {\n",
       "        vertical-align: top;\n",
       "    }\n",
       "\n",
       "    .dataframe thead th {\n",
       "        text-align: right;\n",
       "    }\n",
       "</style>\n",
       "<table border=\"1\" class=\"dataframe\">\n",
       "  <thead>\n",
       "    <tr style=\"text-align: right;\">\n",
       "      <th></th>\n",
       "      <th>fat</th>\n",
       "      <th>target</th>\n",
       "    </tr>\n",
       "  </thead>\n",
       "  <tbody>\n",
       "    <tr>\n",
       "      <th>0</th>\n",
       "      <td>22.5</td>\n",
       "      <td>1</td>\n",
       "    </tr>\n",
       "    <tr>\n",
       "      <th>1</th>\n",
       "      <td>40.1</td>\n",
       "      <td>1</td>\n",
       "    </tr>\n",
       "    <tr>\n",
       "      <th>2</th>\n",
       "      <td>8.4</td>\n",
       "      <td>0</td>\n",
       "    </tr>\n",
       "    <tr>\n",
       "      <th>3</th>\n",
       "      <td>5.9</td>\n",
       "      <td>0</td>\n",
       "    </tr>\n",
       "    <tr>\n",
       "      <th>4</th>\n",
       "      <td>25.5</td>\n",
       "      <td>1</td>\n",
       "    </tr>\n",
       "  </tbody>\n",
       "</table>\n",
       "</div>"
      ],
      "text/plain": [
       "    fat  target\n",
       "0  22.5       1\n",
       "1  40.1       1\n",
       "2   8.4       0\n",
       "3   5.9       0\n",
       "4  25.5       1"
      ]
     },
     "execution_count": 5,
     "metadata": {},
     "output_type": "execute_result"
    }
   ],
   "source": [
    "# Here, 'fat' < 20 indicates Low (Class '0') and 'fat' >= 20 indicates High (Class '1')\n",
    "data['target'] = data['fat'].apply(lambda x: 0 if x<20 else 1)\n",
    "data[['fat', 'target']].head()"
   ]
  },
  {
   "cell_type": "code",
   "execution_count": 6,
   "metadata": {
    "colab": {
     "base_uri": "https://localhost:8080/",
     "height": 34
    },
    "colab_type": "code",
    "id": "ptvCgn04_VwV",
    "outputId": "348e79fd-007c-4524-fe81-443642693ffa"
   },
   "outputs": [
    {
     "name": "stdout",
     "output_type": "stream",
     "text": [
      "(240, 124) (240,)\n"
     ]
    }
   ],
   "source": [
    "X = data.drop(['target', 'fat'], axis=1)\n",
    "y = data.target\n",
    "\n",
    "print(X.shape, y.shape)"
   ]
  },
  {
   "cell_type": "code",
   "execution_count": 7,
   "metadata": {
    "colab": {
     "base_uri": "https://localhost:8080/",
     "height": 34
    },
    "colab_type": "code",
    "id": "-ZA7t0HqCyZo",
    "outputId": "8769de16-a667-4eac-ede3-115a0232ad3b"
   },
   "outputs": [
    {
     "name": "stdout",
     "output_type": "stream",
     "text": [
      "Training data: (160, 124) Test data: (80, 124)\n"
     ]
    }
   ],
   "source": [
    "X_train, X_test, y_train, y_test = train_test_split(X, y, test_size=0.33, random_state=42)\n",
    "\n",
    "print(f'Training data: {X_train.shape} Test data: {X_test.shape}')"
   ]
  },
  {
   "cell_type": "code",
   "execution_count": 8,
   "metadata": {
    "colab": {},
    "colab_type": "code",
    "id": "hW9eIRiP_Vy8"
   },
   "outputs": [],
   "source": [
    "norm = Normalizer()\n",
    "X_train = norm.fit_transform(X_train)\n",
    "X_test = norm.transform(X_test)"
   ]
  },
  {
   "cell_type": "code",
   "execution_count": 9,
   "metadata": {
    "colab": {
     "base_uri": "https://localhost:8080/",
     "height": 88
    },
    "colab_type": "code",
    "id": "1gLQ5H7j_V8e",
    "outputId": "931c0209-3644-4bc2-cfb5-50ddb2cd14d1"
   },
   "outputs": [
    {
     "name": "stdout",
     "output_type": "stream",
     "text": [
      "0.7875\n"
     ]
    }
   ],
   "source": [
    "clf = LogisticRegression(C=1)\n",
    "clf.fit(X_train, y_train)\n",
    "y_pred = clf.predict(X_test)\n",
    "\n",
    "print(accuracy_score(y_test, y_pred))"
   ]
  },
  {
   "cell_type": "code",
   "execution_count": 10,
   "metadata": {
    "colab": {
     "base_uri": "https://localhost:8080/",
     "height": 34
    },
    "colab_type": "code",
    "id": "3-WhuGZ2ITqI",
    "outputId": "e73a92f1-e4ab-4564-be4e-a703e63770bc"
   },
   "outputs": [
    {
     "name": "stderr",
     "output_type": "stream",
     "text": [
      "                                                                               \r"
     ]
    },
    {
     "name": "stdout",
     "output_type": "stream",
     "text": [
      "0.8625\n"
     ]
    },
    {
     "name": "stderr",
     "output_type": "stream",
     "text": [
      "\r",
      "                                                                               \r"
     ]
    }
   ],
   "source": [
    "lvq = LVQ3(n_inputs=X_train.shape[1], step=0.0001, n_classes=len(y_train.unique()))\n",
    "lvq.train(X_train, y_train, epochs=100)\n",
    "y_pred = lvq.predict(X_test)\n",
    "\n",
    "print(accuracy_score(y_test, y_pred))"
   ]
  },
  {
   "cell_type": "code",
   "execution_count": 11,
   "metadata": {
    "colab": {
     "base_uri": "https://localhost:8080/",
     "height": 34
    },
    "colab_type": "code",
    "id": "MR7FWP5Y_V_R",
    "outputId": "f26cbb5f-2c13-4a81-c2f0-51cbddecedf6"
   },
   "outputs": [
    {
     "name": "stdout",
     "output_type": "stream",
     "text": [
      "0.625\n"
     ]
    }
   ],
   "source": [
    "glvq = GlvqModel()\n",
    "glvq.fit(X_train, y_train)\n",
    "y_pred = glvq.predict(X_test)\n",
    "\n",
    "print(accuracy_score(y_test, y_pred))"
   ]
  },
  {
   "cell_type": "code",
   "execution_count": 12,
   "metadata": {
    "colab": {
     "base_uri": "https://localhost:8080/",
     "height": 34
    },
    "colab_type": "code",
    "id": "IF8GNKfwGgOY",
    "outputId": "86bccd69-a450-4869-cd75-01e0d8fa49b0"
   },
   "outputs": [
    {
     "name": "stdout",
     "output_type": "stream",
     "text": [
      "0.9625\n"
     ]
    }
   ],
   "source": [
    "gmlvq = GmlvqModel()\n",
    "gmlvq.fit(X_train, y_train)\n",
    "y_pred = gmlvq.predict(X_test)\n",
    "\n",
    "print(accuracy_score(y_test, y_pred))"
   ]
  },
  {
   "cell_type": "markdown",
   "metadata": {
    "colab_type": "text",
    "id": "ZTkf7oudIrQE"
   },
   "source": [
    "# 'MNIST' Dataset"
   ]
  },
  {
   "cell_type": "code",
   "execution_count": 55,
   "metadata": {
    "colab": {
     "base_uri": "https://localhost:8080/",
     "height": 34
    },
    "colab_type": "code",
    "id": "wuQpTrYPIjxi",
    "outputId": "8e9e40e5-4a13-4837-d748-ab3f8b32cb4a"
   },
   "outputs": [
    {
     "data": {
      "text/plain": [
       "dict_keys(['data', 'target', 'target_names', 'images', 'DESCR'])"
      ]
     },
     "execution_count": 55,
     "metadata": {
      "tags": []
     },
     "output_type": "execute_result"
    }
   ],
   "source": [
    "mnist = load_digits()\n",
    "mnist.keys()"
   ]
  },
  {
   "cell_type": "code",
   "execution_count": 70,
   "metadata": {
    "colab": {
     "base_uri": "https://localhost:8080/",
     "height": 302
    },
    "colab_type": "code",
    "id": "rS3aQfr2Io7v",
    "outputId": "36fdf594-036c-4c27-9b93-a861a84ddbbb"
   },
   "outputs": [
    {
     "data": {
      "text/plain": [
       "<Figure size 432x288 with 0 Axes>"
      ]
     },
     "metadata": {
      "tags": []
     },
     "output_type": "display_data"
    },
    {
     "data": {
      "image/png": "[encoded data removed]",
      "text/plain": [
       "<Figure size 288x288 with 1 Axes>"
      ]
     },
     "metadata": {
      "tags": []
     },
     "output_type": "display_data"
    }
   ],
   "source": [
    "plt.gray()\n",
    "plt.matshow(mnist['images'][1])\n",
    "plt.title(f\"Image Label ---> {mnist['target'][1]}\")\n",
    "plt.xticks([])\n",
    "plt.yticks([])\n",
    "plt.show()"
   ]
  },
  {
   "cell_type": "code",
   "execution_count": 0,
   "metadata": {
    "colab": {},
    "colab_type": "code",
    "id": "lMzdKi9XMV6N"
   },
   "outputs": [],
   "source": [
    "X = mnist.data\n",
    "y = mnist.target"
   ]
  },
  {
   "cell_type": "code",
   "execution_count": 75,
   "metadata": {
    "colab": {
     "base_uri": "https://localhost:8080/",
     "height": 34
    },
    "colab_type": "code",
    "id": "dYvy9W8EMWDH",
    "outputId": "78c9ebf1-31f4-4d18-b383-b3d9c49ad99d"
   },
   "outputs": [
    {
     "name": "stdout",
     "output_type": "stream",
     "text": [
      "Training Data: (1203, 64), Test Data: (594, 64)\n"
     ]
    }
   ],
   "source": [
    "X_train, X_test, y_train, y_test = train_test_split(X, y, test_size=0.33, random_state=42)\n",
    "print(f'Training Data: {X_train.shape}, Test Data: {X_test.shape}')"
   ]
  },
  {
   "cell_type": "code",
   "execution_count": 0,
   "metadata": {
    "colab": {},
    "colab_type": "code",
    "id": "-LU2Y-NPMWMh"
   },
   "outputs": [],
   "source": [
    "norm = Normalizer()\n",
    "X_train = norm.fit_transform(X_train)\n",
    "X_test = norm.transform(X_test)"
   ]
  },
  {
   "cell_type": "code",
   "execution_count": 81,
   "metadata": {
    "colab": {
     "base_uri": "https://localhost:8080/",
     "height": 34
    },
    "colab_type": "code",
    "id": "w48PcZYYMWXk",
    "outputId": "07110c20-cebb-46a4-f171-df9135b21d60"
   },
   "outputs": [
    {
     "name": "stdout",
     "output_type": "stream",
     "text": [
      "0.9326599326599326\n"
     ]
    }
   ],
   "source": [
    "clf = LogisticRegression(C=1)\n",
    "clf.fit(X_train, y_train)\n",
    "y_pred = clf.predict(X_test)\n",
    "\n",
    "print(accuracy_score(y_test, y_pred))"
   ]
  },
  {
   "cell_type": "code",
   "execution_count": 86,
   "metadata": {
    "colab": {
     "base_uri": "https://localhost:8080/",
     "height": 34
    },
    "colab_type": "code",
    "id": "1EJZLx7fNnYc",
    "outputId": "e989da51-b21b-4104-af24-d2637f1bb0b6"
   },
   "outputs": [
    {
     "data": {
      "text/plain": [
       "(1203, 64)"
      ]
     },
     "execution_count": 86,
     "metadata": {
      "tags": []
     },
     "output_type": "execute_result"
    }
   ],
   "source": []
  },
  {
   "cell_type": "code",
   "execution_count": 100,
   "metadata": {
    "colab": {
     "base_uri": "https://localhost:8080/",
     "height": 34
    },
    "colab_type": "code",
    "id": "v7TfL5jWNJbW",
    "outputId": "71365bf4-e1de-42b9-8d6c-a71b6453306c"
   },
   "outputs": [
    {
     "name": "stderr",
     "output_type": "stream",
     "text": []
    },
    {
     "name": "stdout",
     "output_type": "stream",
     "text": [
      "0.7542087542087542\n"
     ]
    },
    {
     "name": "stderr",
     "output_type": "stream",
     "text": [
      "\r",
      "                                                                               \r",
      "\r",
      "                                                                               \r",
      "\r",
      "                                                                               \r",
      "\r",
      "                                                                               \r"
     ]
    }
   ],
   "source": [
    "lvq = LVQ3(n_inputs=X_train.shape[1], step=0.0001, n_classes=len(set(y_train)))\n",
    "lvq.train(X_train, y_train, epochs=100)\n",
    "y_pred = lvq.predict(X_test)\n",
    "\n",
    "print(accuracy_score(y_test, y_pred))"
   ]
  },
  {
   "cell_type": "code",
   "execution_count": 88,
   "metadata": {
    "colab": {
     "base_uri": "https://localhost:8080/",
     "height": 34
    },
    "colab_type": "code",
    "id": "-BZM0JwkNJjL",
    "outputId": "bfe8a267-3196-49a9-dedc-ba4ea9954115"
   },
   "outputs": [
    {
     "name": "stdout",
     "output_type": "stream",
     "text": [
      "0.9158249158249159\n"
     ]
    }
   ],
   "source": [
    "glvq = GlvqModel()\n",
    "glvq.fit(X_train, y_train)\n",
    "y_pred = glvq.predict(X_test)\n",
    "\n",
    "print(accuracy_score(y_test, y_pred))"
   ]
  },
  {
   "cell_type": "code",
   "execution_count": 90,
   "metadata": {
    "colab": {
     "base_uri": "https://localhost:8080/",
     "height": 34
    },
    "colab_type": "code",
    "id": "o0j3YAscNJrU",
    "outputId": "354bfb0d-73f1-479b-ed96-bbc003f41b54"
   },
   "outputs": [
    {
     "name": "stdout",
     "output_type": "stream",
     "text": [
      "0.9612794612794613\n"
     ]
    }
   ],
   "source": [
    "gmlvq = GmlvqModel()\n",
    "gmlvq.fit(X_train, y_train)\n",
    "y_pred = gmlvq.predict(X_test)\n",
    "\n",
    "print(accuracy_score(y_test, y_pred))"
   ]
  },
  {
   "cell_type": "code",
   "execution_count": 0,
   "metadata": {
    "colab": {},
    "colab_type": "code",
    "id": "vlF7bSudNJzT"
   },
   "outputs": [],
   "source": []
  },
  {
   "cell_type": "code",
   "execution_count": 0,
   "metadata": {
    "colab": {},
    "colab_type": "code",
    "id": "R85JdubONJ7N"
   },
   "outputs": [],
   "source": []
  }
 ],
 "metadata": {
  "colab": {
   "collapsed_sections": [
    "X3ALm_WZIeXS",
    "ZTkf7oudIrQE"
   ],
   "name": "Classification using LVQ.ipynb",
   "provenance": [],
   "version": "0.3.2"
  },
  "kernelspec": {
   "display_name": "Python 3",
   "language": "python",
   "name": "python3"
  },
  "language_info": {
   "codemirror_mode": {
    "name": "ipython",
    "version": 3
   },
   "file_extension": ".py",
   "mimetype": "text/x-python",
   "name": "python",
   "nbconvert_exporter": "python",
   "pygments_lexer": "ipython3",
   "version": "3.6.4"
  }
 },
 "nbformat": 4,
 "nbformat_minor": 1
}
